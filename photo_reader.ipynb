{
 "cells": [
  {
   "cell_type": "code",
   "execution_count": 4,
   "metadata": {},
   "outputs": [],
   "source": [
    "from pytesseract import pytesseract as ptess\n",
    "from PIL import Image\n",
    "\n",
    "fn = \"C:\\\\Users\\\\chwan\\\\OneDrive\\\\Documents\\\\04 Python Scripts\\\\IntPhysExp\\\\03 Lock-in\"\n",
    "\n",
    "# Defining paths to tesseract.exe and the image we would be using.\n",
    "path_to_tesseract = \"C:\\\\Program Files\\\\Tesseract-OCR\\\\tesseract.exe\"\n",
    "\n",
    "# Providing the tesseract executable location to pytesseract library.\n",
    "ptess.tesseract_cmd = path_to_tesseract\n"
   ]
  },
  {
   "cell_type": "code",
   "execution_count": 19,
   "metadata": {},
   "outputs": [
    {
     "name": "stdout",
     "output_type": "stream",
     "text": [
      "image 471\n",
      "주파수 59090 @0주파수 5927010?\n",
      "70000   @9 10077 00 )60진폭 10907 00 @@진폭 -60.0060\n",
      "\n",
      "\n",
      "image 472\n",
      "주파수 70197 @9주파수 7197710?\n",
      "70000   9 70077 00 )60진폭 10907 00 @@진폭 76.0060\n",
      "\n",
      "\n",
      "image 473\n",
      "60주파수 8047012 .@9주파수 15901\n",
      "70000  9 20007 0 0-)60진폭 10907 00 @@진폭 43600\n",
      "\n",
      "\n",
      "image 474\n",
      "60주파수 90237 @9주파수 15416\n",
      "70000  9 20007 0 0-]60진폭 10907 0 @@진폭 92400\n",
      "\n",
      "\n",
      "image 475\n",
      "주파수 10024  @0주파수 1012\n",
      "70000  @9 20007 0 0-]160진폭 10907 00 @@진폭 63200\n",
      "\n",
      "\n",
      "image 476\n",
      "60주파수 20091  @9주파수 20001\n",
      "70000  9 20007 0 0-]60진폭 10907 00 @@진폭 92400\n",
      "\n",
      "\n",
      "image 477\n",
      "00666\n",
      "\n",
      "주파수 4909  @0주파수 96010 ?\n",
      "70000  9 20007 0 0-)60진폭 10907 00 @@진폭 56000\n",
      "\n",
      "\n",
      "image 478\n",
      "00005 00000099@ 7000      701미만)\n",
      "60주파수 99001 0 @9주파수 55016 ?\n",
      "70000    9 20007 0 0-)6@진폭 10907 00 @@진폭 16000\n",
      "\n",
      "\n",
      "image 479\n",
      "0600 00099 70009  2000961뇌\n",
      "주파수 20091 @9주파수 16506 ?\n",
      "70000    @9 20007 0 0-)60진폭 10907 0 @@진폭 16000\n",
      "\n",
      "\n",
      "\n"
     ]
    }
   ],
   "source": [
    "text = ''\n",
    "\n",
    "for i in range(1,10):\n",
    "    text += f'image 47{i}\\n'\n",
    "    image_path = fn+f\"\\\\Data photos\\\\TEK0047{i}.PNG\"\n",
    "# Opening the image & storing it in an image object.\n",
    "    img = Image.open(image_path)\n",
    "\n",
    "# Coordinates in the order of left top right bottom\n",
    "    roi = (180, 205, 419, 235)\n",
    "    cropped_image = img.crop(roi)\n",
    "    \n",
    "# Passing the image object to image_to_string() function\n",
    "# This function will extract the text from the image\n",
    "    text += ptess.image_to_string(img,lang='kor')\n",
    "    text += '\\n'\n",
    "\n",
    "# Displaying the extracted text\n",
    "print(text)\n"
   ]
  }
 ],
 "metadata": {
  "kernelspec": {
   "display_name": "Python 3",
   "language": "python",
   "name": "python3"
  },
  "language_info": {
   "codemirror_mode": {
    "name": "ipython",
    "version": 3
   },
   "file_extension": ".py",
   "mimetype": "text/x-python",
   "name": "python",
   "nbconvert_exporter": "python",
   "pygments_lexer": "ipython3",
   "version": "3.10.6"
  },
  "orig_nbformat": 4
 },
 "nbformat": 4,
 "nbformat_minor": 2
}
